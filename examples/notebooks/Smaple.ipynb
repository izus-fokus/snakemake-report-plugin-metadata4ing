{
  "nbformat": 4,
  "nbformat_minor": 0,
  "metadata": {
    "colab": {
      "provenance": []
    },
    "kernelspec": {
      "name": "python3",
      "display_name": "Python 3"
    },
    "language_info": {
      "name": "python"
    }
  },
  "cells": [
    {
      "cell_type": "code",
      "source": [
        "!pip install rdflib"
      ],
      "metadata": {
        "colab": {
          "base_uri": "https://localhost:8080/"
        },
        "id": "u38UVlnSHtfR",
        "outputId": "d28a7ccb-1048-4562-b02b-dabc38e1dddf"
      },
      "execution_count": 3,
      "outputs": [
        {
          "output_type": "stream",
          "name": "stdout",
          "text": [
            "Collecting rdflib\n",
            "  Downloading rdflib-7.1.4-py3-none-any.whl.metadata (11 kB)\n",
            "Requirement already satisfied: pyparsing<4,>=2.1.0 in /usr/local/lib/python3.11/dist-packages (from rdflib) (3.2.3)\n",
            "Downloading rdflib-7.1.4-py3-none-any.whl (565 kB)\n",
            "\u001b[?25l   \u001b[90m━━━━━━━━━━━━━━━━━━━━━━━━━━━━━━━━━━━━━━━━\u001b[0m \u001b[32m0.0/565.1 kB\u001b[0m \u001b[31m?\u001b[0m eta \u001b[36m-:--:--\u001b[0m\r\u001b[2K   \u001b[91m━━━━━━━\u001b[0m\u001b[90m╺\u001b[0m\u001b[90m━━━━━━━━━━━━━━━━━━━━━━━━━━━━━━━━\u001b[0m \u001b[32m102.4/565.1 kB\u001b[0m \u001b[31m2.9 MB/s\u001b[0m eta \u001b[36m0:00:01\u001b[0m\r\u001b[2K   \u001b[91m━━━━━━━━━━━━━━━━━━━━━━━━━━━━━━━━━━━━━━━\u001b[0m\u001b[91m╸\u001b[0m \u001b[32m563.2/565.1 kB\u001b[0m \u001b[31m8.2 MB/s\u001b[0m eta \u001b[36m0:00:01\u001b[0m\r\u001b[2K   \u001b[90m━━━━━━━━━━━━━━━━━━━━━━━━━━━━━━━━━━━━━━━━\u001b[0m \u001b[32m565.1/565.1 kB\u001b[0m \u001b[31m7.2 MB/s\u001b[0m eta \u001b[36m0:00:00\u001b[0m\n",
            "\u001b[?25hInstalling collected packages: rdflib\n",
            "Successfully installed rdflib-7.1.4\n"
          ]
        }
      ]
    },
    {
      "cell_type": "code",
      "execution_count": 100,
      "metadata": {
        "colab": {
          "base_uri": "https://localhost:8080/"
        },
        "id": "g15oTPFKGPq9",
        "outputId": "77ac8d07-10ee-473a-91e6-f80d9253d15b"
      },
      "outputs": [
        {
          "output_type": "stream",
          "name": "stdout",
          "text": [
            "Extracted ro-crate-metadata-012094b0895944ae.zip to /content/sim 2/ro-crate-metadata-012094b0895944ae\n",
            "Extracted ro-crate-metadata-8d51b6911e5c3560.zip to /content/sim 2/ro-crate-metadata-8d51b6911e5c3560\n"
          ]
        }
      ],
      "source": [
        "import zipfile\n",
        "import os\n",
        "\n",
        "zip_dir = \"/content/sim 2\"\n",
        "for filename in os.listdir(zip_dir):\n",
        "    if filename.endswith('.zip'):\n",
        "        zip_path = os.path.join(zip_dir, filename)\n",
        "\n",
        "        # Folder name = zip file name (without .zip)\n",
        "        extract_dir = os.path.join(zip_dir, filename[:-4])\n",
        "        os.makedirs(extract_dir, exist_ok=True)\n",
        "\n",
        "        # Extract ZIP file\n",
        "        with zipfile.ZipFile(zip_path, 'r') as zip_ref:\n",
        "            zip_ref.extractall(extract_dir)\n",
        "            print(f'Extracted {filename} to {extract_dir}')"
      ]
    },
    {
      "cell_type": "code",
      "source": [
        "from rdflib import Graph\n",
        "\n",
        "base_dir = \"/content/sim 2\"\n",
        "\n",
        "graph_list = []\n",
        "\n",
        "for root, dirs, files in os.walk(base_dir):\n",
        "    if 'provenance.ttl' in files:\n",
        "        file_path = os.path.join(root, 'provenance.ttl')\n",
        "        try:\n",
        "            g = Graph()\n",
        "            g.parse(file_path, format='ttl')\n",
        "            graph_list.append(g)\n",
        "            print(f\"✅ Parsed: {file_path}\")\n",
        "        except Exception as e:\n",
        "            print(f\"❌ Failed to parse {file_path}: {e}\")\n",
        "\n",
        "print(f\"\\nTotal graphs loaded: {len(graph_list)}\")\n"
      ],
      "metadata": {
        "colab": {
          "base_uri": "https://localhost:8080/"
        },
        "id": "VtQWVpeGHiJm",
        "outputId": "dc61edae-f156-4b06-8357-00075b01066e"
      },
      "execution_count": 101,
      "outputs": [
        {
          "output_type": "stream",
          "name": "stdout",
          "text": [
            "✅ Parsed: /content/sim 2/ro-crate-metadata-8d51b6911e5c3560/provenance.ttl\n",
            "✅ Parsed: /content/sim 2/ro-crate-metadata-012094b0895944ae/provenance.ttl\n",
            "\n",
            "Total graphs loaded: 2\n"
          ]
        }
      ]
    },
    {
      "cell_type": "code",
      "source": [
        "from rdflib import Graph, Namespace, Literal\n",
        "from tabulate import tabulate\n",
        "\n",
        "query = \"\"\"\n",
        "PREFIX cr: <http://mlcommons.org/croissant/>\n",
        "PREFIX sio: <http://semanticscience.org/resource/>\n",
        "\n",
        "SELECT ?value_element_size ?value_young_modulus ?value_poisson_ratio ?value_max_mises_stress\n",
        "WHERE {\n",
        "  ?max_mises_stress cr:source/cr:extract [ cr:jsonPath \"/max_mises_stress\" ] ;\n",
        "             sio:SIO_000210 [ schema:value ?value_max_mises_stress ] .\n",
        "\n",
        "  ?poisson_ratio cr:source/cr:extract [ cr:jsonPath \"/poisson-ratio/value\" ] ;\n",
        "             sio:SIO_000210 [ schema:value ?value_poisson_ratio ] .\n",
        "\n",
        "  ?young_modulus cr:source/cr:extract [ cr:jsonPath \"/young-modulus/value\" ] ;\n",
        "             sio:SIO_000210 [ schema:value ?value_young_modulus ] .\n",
        "\n",
        "  ?field_size cr:source/cr:extract [ cr:jsonPath \"/element-size/value\" ] ;\n",
        "             sio:SIO_000210 [ schema:value ?value_element_size ] .\n",
        "\n",
        "  FILTER EXISTS {\n",
        "    ?field_degree cr:source/cr:extract [ cr:jsonPath \"/element-degree\" ] ;\n",
        "                  sio:SIO_000210 [ schema:value 1 ] .\n",
        "  }\n",
        "\n",
        "  FILTER EXISTS {\n",
        "    ?field_order cr:source/cr:extract [ cr:jsonPath \"/element-order\" ] ;\n",
        "                 sio:SIO_000210 [ schema:value 1 ] .\n",
        "  }\n",
        "}\n",
        "\"\"\"\n",
        "\n",
        "table_data = []\n",
        "\n",
        "for g in graph_list:\n",
        "    local_ns = dict(g.namespace_manager.namespaces()).get(\"local\")\n",
        "    hash_id = local_ns.strip(\"/\").split(\"/\")[-1] if local_ns else \"UNKNOWN\"\n",
        "\n",
        "    results = g.query(query)\n",
        "\n",
        "    for row in results:\n",
        "        value_element_size = row.value_element_size\n",
        "        value_young_modulus = row.value_young_modulus\n",
        "        value_poisson_ratio = row.value_poisson_ratio\n",
        "        value_max_mises_stress = row.value_max_mises_stress\n",
        "        table_data.append(\n",
        "            [\n",
        "                hash_id,\n",
        "                value_element_size,\n",
        "                value_young_modulus,\n",
        "                value_poisson_ratio,\n",
        "                value_max_mises_stress\n",
        "            ]\n",
        "        )\n",
        "\n",
        "print(\n",
        "    tabulate(\n",
        "        table_data,\n",
        "        headers=[\n",
        "            \"Simulation Hash\",\n",
        "            \"element-size\",\n",
        "            \"young-modulus\",\n",
        "            \"poisson-ratio\",\n",
        "            \"max-mises-stress\"\n",
        "        ],\n",
        "    )\n",
        ")\n"
      ],
      "metadata": {
        "colab": {
          "base_uri": "https://localhost:8080/"
        },
        "id": "TWk2nmKPMjMg",
        "outputId": "4bceac41-cf43-4f58-aa03-7afd2d657bd4"
      },
      "execution_count": 103,
      "outputs": [
        {
          "output_type": "stream",
          "name": "stdout",
          "text": [
            "Simulation Hash      element-size    young-modulus    poisson-ratio    max-mises-stress\n",
            "-----------------  --------------  ---------------  ---------------  ------------------\n",
            "8d51b6911e5c3560         0.003125          2.1e+11              0.3         2.99783e+08\n",
            "012094b0895944ae         0.0125            2.1e+11              0.3         3.00129e+08\n"
          ]
        }
      ]
    }
  ]
}