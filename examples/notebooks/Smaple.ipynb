{
  "cells": [
    {
      "cell_type": "code",
      "execution_count": 26,
      "metadata": {
        "colab": {
          "base_uri": "https://localhost:8080/"
        },
        "id": "g15oTPFKGPq9",
        "outputId": "77ac8d07-10ee-473a-91e6-f80d9253d15b"
      },
      "outputs": [],
      "source": [
        "import os\n",
        "import shutil\n",
        "import zipfile\n",
        "\n",
        "def extract_all_zips(root_folder):\n",
        "    all_folder = os.path.join(root_folder , \"_all\")\n",
        "    \n",
        "    if os.path.exists(all_folder):\n",
        "        shutil.rmtree(all_folder)\n",
        "    print(all_folder)\n",
        "    os.makedirs(all_folder)\n",
        "\n",
        "    for dirpath, _, filenames in os.walk(root_folder):\n",
        "        for filename in filenames:\n",
        "            if filename.endswith('.zip'):\n",
        "                zip_path = os.path.join(dirpath, filename)\n",
        "                \n",
        "                subfolder_name = os.path.splitext(filename)[0]\n",
        "                extract_dir = os.path.join(all_folder, subfolder_name)\n",
        "                os.makedirs(extract_dir, exist_ok=True)\n",
        "\n",
        "                with zipfile.ZipFile(zip_path, 'r') as zip_ref:\n",
        "                    zip_ref.extractall(extract_dir)\n",
        "                    print(f\"Extracted {zip_path} to {extract_dir}\")"
      ]
    },
    {
      "cell_type": "code",
      "execution_count": 32,
      "metadata": {},
      "outputs": [
        {
          "name": "stdout",
          "output_type": "stream",
          "text": [
            "/Users/mahdi/Documents/GitHub/snakemake-report-plugin-metadata4ing/examples/_all\n",
            "Extracted /Users/mahdi/Documents/GitHub/snakemake-report-plugin-metadata4ing/examples/simulation_1/ro-crate-metadata-8d51b6911e5c3560.zip to /Users/mahdi/Documents/GitHub/snakemake-report-plugin-metadata4ing/examples/_all/ro-crate-metadata-8d51b6911e5c3560\n",
            "Extracted /Users/mahdi/Documents/GitHub/snakemake-report-plugin-metadata4ing/examples/simulation_2/ro-crate-metadata-012094b0895944ae.zip to /Users/mahdi/Documents/GitHub/snakemake-report-plugin-metadata4ing/examples/_all/ro-crate-metadata-012094b0895944ae\n",
            "Extracted /Users/mahdi/Documents/GitHub/snakemake-report-plugin-metadata4ing/examples/simulation_3/ro-crate-metadata-8b1a7a79261c8894.zip to /Users/mahdi/Documents/GitHub/snakemake-report-plugin-metadata4ing/examples/_all/ro-crate-metadata-8b1a7a79261c8894\n"
          ]
        }
      ],
      "source": [
        "base_dir = \"/Users/mahdi/Documents/GitHub/snakemake-report-plugin-metadata4ing/examples\"\n",
        "extract_all_zips(base_dir)"
      ]
    },
    {
      "cell_type": "code",
      "execution_count": 33,
      "metadata": {
        "colab": {
          "base_uri": "https://localhost:8080/"
        },
        "id": "VtQWVpeGHiJm",
        "outputId": "dc61edae-f156-4b06-8357-00075b01066e"
      },
      "outputs": [
        {
          "name": "stdout",
          "output_type": "stream",
          "text": [
            "✅ Parsed: /Users/mahdi/Documents/GitHub/snakemake-report-plugin-metadata4ing/examples/_all/ro-crate-metadata-012094b0895944ae/provenance.ttl\n",
            "✅ Parsed: /Users/mahdi/Documents/GitHub/snakemake-report-plugin-metadata4ing/examples/_all/ro-crate-metadata-8d51b6911e5c3560/provenance.ttl\n",
            "✅ Parsed: /Users/mahdi/Documents/GitHub/snakemake-report-plugin-metadata4ing/examples/_all/ro-crate-metadata-8b1a7a79261c8894/provenance.ttl\n",
            "\n",
            "Total graphs loaded: 3\n"
          ]
        }
      ],
      "source": [
        "from rdflib import Graph\n",
        "\n",
        "graph_list = []\n",
        "\n",
        "all_folder = os.path.join(base_dir , \"_all\")\n",
        "\n",
        "for root, dirs, files in os.walk(base_dir):\n",
        "    if 'provenance.ttl' in files:\n",
        "        file_path = os.path.join(root, 'provenance.ttl')\n",
        "        try:\n",
        "            g = Graph()\n",
        "            g.parse(file_path, format='ttl')\n",
        "            graph_list.append(g)\n",
        "            print(f\"✅ Parsed: {file_path}\")\n",
        "        except Exception as e:\n",
        "            print(f\"❌ Failed to parse {file_path}: {e}\")\n",
        "\n",
        "print(f\"\\nTotal graphs loaded: {len(graph_list)}\")\n"
      ]
    },
    {
      "cell_type": "code",
      "execution_count": 45,
      "metadata": {
        "colab": {
          "base_uri": "https://localhost:8080/"
        },
        "id": "TWk2nmKPMjMg",
        "outputId": "4bceac41-cf43-4f58-aa03-7afd2d657bd4"
      },
      "outputs": [
        {
          "name": "stdout",
          "output_type": "stream",
          "text": [
            "Simulation Hash      element-size    young-modulus    poisson-ratio    max-mises-stress\n",
            "-----------------  --------------  ---------------  ---------------  ------------------\n",
            "8b1a7a79261c8894         0.1               2.1e+11              0.3         2.73191e+08\n",
            "8b1a7a79261c8894         0.025             2.1e+11              0.3         2.99792e+08\n",
            "012094b0895944ae         0.0125            2.1e+11              0.3         3.00129e+08\n",
            "8d51b6911e5c3560         0.003125          2.1e+11              0.3         2.99783e+08\n"
          ]
        }
      ],
      "source": [
        "from tabulate import tabulate\n",
        "\n",
        "query = \"\"\"\n",
        "PREFIX cr: <http://mlcommons.org/croissant/>\n",
        "PREFIX sio: <http://semanticscience.org/resource/>\n",
        "\n",
        "SELECT DISTINCT ?value_element_size ?value_young_modulus ?value_poisson_ratio ?value_max_mises_stress\n",
        "WHERE {\n",
        "  ?max_mises_stress cr:source/cr:extract [ cr:jsonPath \"/max_mises_stress\" ] ;\n",
        "             sio:SIO_000210 [ schema:value ?value_max_mises_stress ] ;\n",
        "        cr:source/schema:MediaObject ?media_object_max_mises_stress .\n",
        "   \n",
        "  ?processing_step schema:result ?media_object_max_mises_stress ;\n",
        "        schema:object ?media_object_element_size .\n",
        "  \n",
        "  ?poisson_ratio cr:source/cr:extract [ cr:jsonPath \"/poisson-ratio/value\" ] ;\n",
        "             sio:SIO_000210 [ schema:value ?value_poisson_ratio ] .\n",
        "\n",
        "  ?young_modulus cr:source/cr:extract [ cr:jsonPath \"/young-modulus/value\" ] ;\n",
        "             sio:SIO_000210 [ schema:value ?value_young_modulus ] .\n",
        "\n",
        "  ?field_size cr:source/cr:extract [ cr:jsonPath \"/element-size/value\" ] ;\n",
        "             sio:SIO_000210 [ schema:value ?value_element_size ] ;\n",
        "        cr:source/schema:MediaObject ?media_object_element_size . \n",
        "  \n",
        "  FILTER EXISTS {\n",
        "    ?field_degree cr:source/cr:extract [ cr:jsonPath \"/element-degree\" ] ;\n",
        "                  sio:SIO_000210 [ schema:value 1 ] .\n",
        "  }\n",
        "\n",
        "  FILTER EXISTS {\n",
        "    ?field_order cr:source/cr:extract [ cr:jsonPath \"/element-order\" ] ;\n",
        "                 sio:SIO_000210 [ schema:value 1 ] .\n",
        "  }\n",
        "}\n",
        "\"\"\"\n",
        "\n",
        "table_data = []\n",
        "\n",
        "headers = [\n",
        "    \"Simulation Hash\",\n",
        "    \"element-size\",\n",
        "    \"young-modulus\",\n",
        "    \"poisson-ratio\",\n",
        "    \"max-mises-stress\"\n",
        "]\n",
        "\n",
        "sort_key = headers.index(\"element-size\")\n",
        "\n",
        "for g in graph_list:\n",
        "    local_ns = dict(g.namespace_manager.namespaces()).get(\"local\")\n",
        "    hash_id = local_ns.strip(\"/\").split(\"/\")[-1] if local_ns else \"UNKNOWN\"\n",
        "\n",
        "    results = g.query(query)\n",
        "\n",
        "    for row in results:\n",
        "        value_element_size = row.value_element_size\n",
        "        value_young_modulus = row.value_young_modulus\n",
        "        value_poisson_ratio = row.value_poisson_ratio\n",
        "        value_max_mises_stress = row.value_max_mises_stress\n",
        "        table_data.append(\n",
        "            [\n",
        "                hash_id,\n",
        "                value_element_size,\n",
        "                value_young_modulus,\n",
        "                value_poisson_ratio,\n",
        "                value_max_mises_stress\n",
        "            ]\n",
        "        )\n",
        "\n",
        "table_data.sort(key=lambda row: float(row[sort_key]), reverse=True)\n",
        "\n",
        "print(\n",
        "    tabulate(\n",
        "        table_data,\n",
        "        headers=[\n",
        "            \"Simulation Hash\",\n",
        "            \"element-size\",\n",
        "            \"young-modulus\",\n",
        "            \"poisson-ratio\",\n",
        "            \"max-mises-stress\"\n",
        "        ],\n",
        "    )\n",
        ")\n"
      ]
    },
    {
      "cell_type": "code",
      "execution_count": 47,
      "metadata": {},
      "outputs": [
        {
          "data": {
            "image/png": "[encoded data removed]",
            "text/plain": [
              "<Figure size 800x500 with 1 Axes>"
            ]
          },
          "metadata": {},
          "output_type": "display_data"
        }
      ],
      "source": [
        "import matplotlib.pyplot as plt\n",
        "\n",
        "x = [float(row[headers.index(\"element-size\")]) for row in table_data]\n",
        "y = [float(row[headers.index(\"max-mises-stress\")]) for row in table_data]\n",
        "\n",
        "# Plot\n",
        "plt.figure(figsize=(8, 5))\n",
        "plt.plot(x, y, marker='o', linestyle='-', color='teal')\n",
        "plt.xlabel(\"element-size\")\n",
        "plt.ylabel(\"max-mises-stress\")\n",
        "plt.title(\"element-size vs max-mises-stress\")\n",
        "plt.grid(True)\n",
        "plt.tight_layout()\n",
        "plt.show()"
      ]
    }
  ],
  "metadata": {
    "colab": {
      "provenance": []
    },
    "kernelspec": {
      "display_name": "base",
      "language": "python",
      "name": "python3"
    },
    "language_info": {
      "codemirror_mode": {
        "name": "ipython",
        "version": 3
      },
      "file_extension": ".py",
      "mimetype": "text/x-python",
      "name": "python",
      "nbconvert_exporter": "python",
      "pygments_lexer": "ipython3",
      "version": "3.12.4"
    }
  },
  "nbformat": 4,
  "nbformat_minor": 0
}
